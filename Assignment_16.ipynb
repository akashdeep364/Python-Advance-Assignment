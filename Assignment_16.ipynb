{
 "cells": [
  {
   "cell_type": "markdown",
   "id": "92e4faaf",
   "metadata": {},
   "source": [
    "# Assignment_16"
   ]
  },
  {
   "cell_type": "markdown",
   "id": "9a9448c0",
   "metadata": {},
   "source": [
    "# Q1. What is the benefit of regular expressions?\n"
   ]
  },
  {
   "cell_type": "markdown",
   "id": "c5203e75",
   "metadata": {},
   "source": [
    "Regular expression let us search the piece of text that matches the given pattern. The main benefit of using them is, it saves lot of time and are very eeficient to use."
   ]
  },
  {
   "cell_type": "markdown",
   "id": "ae5c5564",
   "metadata": {},
   "source": [
    "# Q2. Describe the difference between the effects of \"(ab)c+\" and \"a(bc)+.\" Which of these, if any, is the unqualified pattern \"abc+\"?"
   ]
  },
  {
   "cell_type": "markdown",
   "id": "59474576",
   "metadata": {},
   "source": [
    "Pattern (ab)c+ will search for at only one occurence of \"ab\" and one or more occurances of c.\n",
    "    \n",
    "Pattern a(bc)+ will search for at only one occurence of \"a\" and one or more occurances of bc.\n",
    "     \n",
    "pattern (ab)c+ can be unqualified pattern \"abc+\""
   ]
  },
  {
   "cell_type": "code",
   "execution_count": 1,
   "id": "290f8d80",
   "metadata": {},
   "outputs": [
    {
     "name": "stdout",
     "output_type": "stream",
     "text": [
      "abcccccc\n",
      "abcbc\n"
     ]
    }
   ],
   "source": [
    "import re\n",
    "\n",
    "match1 = re.search(r'(ab)c+',\"abcccccc\")\n",
    "match2 = re.search(r'a(bc)+',\"abcbc\")\n",
    "\n",
    "print(match1.group())\n",
    "\n",
    "print(match2.group())"
   ]
  },
  {
   "cell_type": "markdown",
   "id": "88b7aa2f",
   "metadata": {},
   "source": [
    "# Q3. How much do you need to use the following sentence while using regular expressions?\n"
   ]
  },
  {
   "cell_type": "markdown",
   "id": "08808e77",
   "metadata": {},
   "source": [
    "import re\n",
    "    \n",
    "We have to use it everytime we use functions of the module re."
   ]
  },
  {
   "cell_type": "markdown",
   "id": "f76f03f7",
   "metadata": {},
   "source": [
    "# Q4. Which characters have special significance in square brackets when expressing a range, and under what circumstances?"
   ]
  },
  {
   "cell_type": "markdown",
   "id": "8a5fcfc2",
   "metadata": {},
   "source": [
    " \\ (backslash) : general escape character, is usd when you use character class metacharacters as literals inside a character class only. \n",
    "\n",
    " ^ (circumflex anchor) : negate the class, if this is the first character in the brackets(If ^ is not the first, it is not a metacharacter.)"
   ]
  },
  {
   "cell_type": "markdown",
   "id": "cd81d27d",
   "metadata": {},
   "source": [
    "# Q5. How does compiling a regular-expression object benefit you?"
   ]
  },
  {
   "cell_type": "markdown",
   "id": "c485a80f",
   "metadata": {},
   "source": [
    "It is faster compared to using pattern ad other re functions."
   ]
  },
  {
   "cell_type": "markdown",
   "id": "05cc5ca5",
   "metadata": {},
   "source": [
    "# Q6. What are some examples of how to use the match object returned by re.match and re.search?"
   ]
  },
  {
   "cell_type": "markdown",
   "id": "d1c0844d",
   "metadata": {},
   "source": [
    "re.search() searches for the whole string even if the string contains multi-lines and tries to find a match of the substring in all the lines of string\n",
    "    \n",
    "re.match() searches only from the beginning of the string and return match object if found. But if a match of substring is found somewhere in the middle of the string, it returns none.  \n",
    "    \n",
    "But, both search() and match() returns only the first occurance of pattern."
   ]
  },
  {
   "cell_type": "code",
   "execution_count": 2,
   "id": "b2f890be",
   "metadata": {},
   "outputs": [
    {
     "name": "stdout",
     "output_type": "stream",
     "text": [
      "<re.Match object; span=(0, 7), match='Ineuron'>\n",
      "None\n"
     ]
    }
   ],
   "source": [
    "import re\n",
    "\n",
    "pattern = 'ineuron'\n",
    "\n",
    "search = re.search(pattern,\"Ineuron is the best coaching class ineuron!\",re.IGNORECASE)\n",
    "\n",
    "print(search)\n",
    "\n",
    "match = re.match(pattern,\"The best coaching class is Ineuron!\",re.IGNORECASE)\n",
    "\n",
    "print(match)"
   ]
  },
  {
   "cell_type": "markdown",
   "id": "7673525d",
   "metadata": {},
   "source": [
    "# Q7. What is the difference between using a vertical bar (|) as an alteration and using square brackets as a character set?"
   ]
  },
  {
   "cell_type": "markdown",
   "id": "7ffc46fa",
   "metadata": {},
   "source": [
    "| : is regex or. It will check either of any string is present in search string.\n",
    "    \n",
    "[] : This will search for any character is present in string\n",
    "    "
   ]
  },
  {
   "cell_type": "code",
   "execution_count": 5,
   "id": "3f0b2120",
   "metadata": {},
   "outputs": [
    {
     "name": "stdout",
     "output_type": "stream",
     "text": [
      "['She']\n",
      "['she is great human!']\n"
     ]
    }
   ],
   "source": [
    "import re\n",
    "\n",
    "print(re.findall(\"She|he\", \"She is a great human!\"))\n",
    "\n",
    "print(re.findall(r'[^\\d]+',\"she is great human!\"))"
   ]
  },
  {
   "cell_type": "markdown",
   "id": "e598666d",
   "metadata": {},
   "source": [
    "# Q8. In regular-expression search patterns, why is it necessary to use the raw-string indicator (r)? In replacement strings?"
   ]
  },
  {
   "cell_type": "markdown",
   "id": "21517292",
   "metadata": {},
   "source": [
    "r indicates raw string means that the characters ahead are individual charachers not escape characters. It changes how the string literal is interpreted. Such literals are stored as they appear. "
   ]
  }
 ],
 "metadata": {
  "kernelspec": {
   "display_name": "Python 3",
   "language": "python",
   "name": "python3"
  },
  "language_info": {
   "codemirror_mode": {
    "name": "ipython",
    "version": 3
   },
   "file_extension": ".py",
   "mimetype": "text/x-python",
   "name": "python",
   "nbconvert_exporter": "python",
   "pygments_lexer": "ipython3",
   "version": "3.8.8"
  }
 },
 "nbformat": 4,
 "nbformat_minor": 5
}
