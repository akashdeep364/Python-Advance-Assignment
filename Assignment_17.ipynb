{
 "cells": [
  {
   "cell_type": "markdown",
   "id": "e84c7f48",
   "metadata": {},
   "source": [
    "# Q1. Explain the difference between greedy and non-greedy syntax with visual terms in as few words as possible. What is the bare minimum effort required to transform a greedy pattern into a non-greedy one? What characters or characters can you introduce or change?"
   ]
  },
  {
   "cell_type": "code",
   "execution_count": 24,
   "id": "be0e9a3a",
   "metadata": {},
   "outputs": [
    {
     "name": "stdout",
     "output_type": "stream",
     "text": [
      "<Robot is the latest addition to the tech items> <Robot is very advanced> <Robot is a machine>\n"
     ]
    },
    {
     "data": {
      "text/plain": [
       "'<Robot is the latest addition to the tech items>'"
      ]
     },
     "execution_count": 24,
     "metadata": {},
     "output_type": "execute_result"
    }
   ],
   "source": [
    "# Ans : Greedy version, Python matches the longest possible string\n",
    "import re\n",
    "text = \"<Robot is the latest addition to the tech items> <Robot is very advanced> <Robot is a machine>\"\n",
    "greedyregobj=re.compile(r'<.*>')\n",
    "match=greedyregobj.search(text)\n",
    "print(match.group())\n",
    "\n",
    "#the Non-greedy version of the regex, Python matches the shortest possible string\n",
    "\n",
    "nongreedyregobj=re.compile(r'<Ro.*?>')\n",
    "match1=nongreedyregobj.search(text)\n",
    "match1.group()"
   ]
  },
  {
   "cell_type": "markdown",
   "id": "322d5cea",
   "metadata": {},
   "source": [
    "# Q2. When exactly does greedy versus non-greedy make a difference?  What if you&#39;re looking for a non-greedy match but the only one available is greedy?"
   ]
  },
  {
   "cell_type": "code",
   "execution_count": 25,
   "id": "c2f95963",
   "metadata": {},
   "outputs": [],
   "source": [
    "# Ans : In the non-greedy version of the regex, Python matches the shortest possible string. In the greedy version, \n",
    "#       Python matches the longest possible string. If only non greedy match is available, we can use other filtering \n",
    "#       or pattern matching methods of regex and further identify the required pattern."
   ]
  },
  {
   "cell_type": "markdown",
   "id": "991f98a5",
   "metadata": {},
   "source": [
    "# Q3. In a simple match of a string, which looks only for one match and does not do any replacement, is the use of a nontagged group likely to make any practical difference?"
   ]
  },
  {
   "cell_type": "code",
   "execution_count": 29,
   "id": "9461bf6d",
   "metadata": {},
   "outputs": [
    {
     "name": "stdout",
     "output_type": "stream",
     "text": [
      "Phone number found: 415\n",
      "Phone number found: 415\n"
     ]
    }
   ],
   "source": [
    "# Ans : \n",
    "import re\n",
    "phoneNumRegex = re.compile(r'\\d\\d\\d')\n",
    "mo = phoneNumRegex.search('My number is 415-555-4242.')\n",
    "print('Phone number found: ' + mo.group()) # non tagged group\n",
    "print('Phone number found: ' + mo.group(0))"
   ]
  },
  {
   "cell_type": "markdown",
   "id": "54bcfc83",
   "metadata": {},
   "source": [
    "# Q4. Describe a scenario in which using a nontagged category would have a significant impact on the program&#39;s outcomes."
   ]
  },
  {
   "cell_type": "code",
   "execution_count": 30,
   "id": "803bdb47",
   "metadata": {},
   "outputs": [
    {
     "data": {
      "text/plain": [
       "('135', '135')"
      ]
     },
     "execution_count": 30,
     "metadata": {},
     "output_type": "execute_result"
    }
   ],
   "source": [
    "# Ans : Non tagged category :\n",
    "import re\n",
    "text='135.135'\n",
    "pattern=r'(\\d+)(?:.)(\\d+)'\n",
    "regobj=re.compile(pattern)\n",
    "matobj=regobj.search(text)\n",
    "matobj.groups()\n",
    "#  Here the '.' decimal is not tagged or captured.\n",
    "#  It will useful in scenarios where the separator of value in a string is of no use and we need to capture only the\n",
    "#  values."
   ]
  },
  {
   "cell_type": "markdown",
   "id": "d1676d99",
   "metadata": {},
   "source": [
    "# Q5. Unlike a normal regex pattern, a look-ahead condition does not consume the characters it examines. Describe a situation in which this could make a difference in the results of your programme."
   ]
  },
  {
   "cell_type": "code",
   "execution_count": 31,
   "id": "0fa038ad",
   "metadata": {},
   "outputs": [],
   "source": [
    "# Ans : While counting the number of multiple lines or mulytiple sentence in a string the positive look ahead makes a \n",
    "#       difference, without which we wont get the correct count of lines or sentences in a string."
   ]
  },
  {
   "cell_type": "markdown",
   "id": "99f99357",
   "metadata": {},
   "source": [
    "# Q6. In standard expressions, what is the difference between positive look-ahead and negative look-ahead?"
   ]
  },
  {
   "cell_type": "code",
   "execution_count": 32,
   "id": "e2884f83",
   "metadata": {},
   "outputs": [
    {
     "name": "stdout",
     "output_type": "stream",
     "text": [
      "Positive lookahead: ['abc']\n",
      "Negative look ahead: ['abc']\n"
     ]
    }
   ],
   "source": [
    "# Ans : Positive look ahead is an assertion continuing the search and extending the string e.g.pattern= r'abc(?=[A-Z])''. \n",
    "#       Here after 'abc', ? is extending the search and says that in the remaining string, first identify the next \n",
    "#       charater should be capitalized character between A and Z, but doesnt consume it.\n",
    "#       Example of Positive lookahead\n",
    "import re\n",
    "pat=r'abc(?=[A-Z])'\n",
    "text=\"abcABCEF\"\n",
    "regobj=re.compile(pat)\n",
    "matobj=regobj.findall(text)\n",
    "print(\"Positive lookahead:\",matobj)\n",
    "\n",
    "#       Negative look head is also an assertion to exclude certain patterns e.g. pattern = r'abc(?!abc)', means \n",
    "#       identify a substring containing \n",
    "#       'abc' which is not followed by another 'abc'\n",
    "#       Example of Negative lookahead\n",
    "import re\n",
    "pat1=r'abc(?!abc)'\n",
    "text1=\"aeiouabcabc\"\n",
    "regobj1=re.compile(pat1)\n",
    "matobj1=regobj1.findall(text)\n",
    "print(\"Negative look ahead:\",matobj1) "
   ]
  },
  {
   "cell_type": "markdown",
   "id": "47fccf29",
   "metadata": {},
   "source": [
    "# Q7. What is the benefit of referring to groups by name rather than by number in a standard expression?"
   ]
  },
  {
   "cell_type": "code",
   "execution_count": 33,
   "id": "e88e5a59",
   "metadata": {},
   "outputs": [],
   "source": [
    "# Ans : The benifit of referring to the groups by name is that\n",
    "#       1)The code is clear\n",
    "#       2)It is easier to maimtain the code."
   ]
  },
  {
   "cell_type": "markdown",
   "id": "51608690",
   "metadata": {},
   "source": [
    "# Q8. Can you identify repeated items within a target string using named groups, as in &quot;The cow jumped over the moon&quot;?"
   ]
  },
  {
   "cell_type": "code",
   "execution_count": 38,
   "id": "528ed900",
   "metadata": {},
   "outputs": [
    {
     "data": {
      "text/plain": [
       "['The', 'the']"
      ]
     },
     "execution_count": 38,
     "metadata": {},
     "output_type": "execute_result"
    }
   ],
   "source": [
    "# Ans : \n",
    "import re\n",
    "text = \"The cow jumped over the moon\"\n",
    "regobj=re.compile(r'(?P<w1>The)',re.I)\n",
    "regobj.findall(text)"
   ]
  },
  {
   "cell_type": "markdown",
   "id": "ed4b3184",
   "metadata": {},
   "source": [
    "# Q9. When parsing a string, what is at least one thing that the Scanner interface does for you that the re.findall feature does not?"
   ]
  },
  {
   "cell_type": "code",
   "execution_count": 39,
   "id": "ad4016f8",
   "metadata": {},
   "outputs": [],
   "source": [
    "# Ans : re.search() method either returns None (if the pattern doesn’t match), or a re.MatchObject that contains\n",
    "#       information about the matching part of the string. This method stops after the first match, so this is best\n",
    "#       suited for testing a regular expression more than extracting data,whereas\n",
    "#       Return all non-overlapping matches of pattern in string, as a list of strings. The string is scanned \n",
    "#       left to right, and matches are returned in the order found."
   ]
  },
  {
   "cell_type": "markdown",
   "id": "a9645f0d",
   "metadata": {},
   "source": [
    "# Q10. Does a scanner object have to be named scanner?"
   ]
  },
  {
   "cell_type": "code",
   "execution_count": 41,
   "id": "7ce25af5",
   "metadata": {},
   "outputs": [],
   "source": [
    "# Ans : The scanner object need not be named scanner. It may have any name."
   ]
  }
 ],
 "metadata": {
  "kernelspec": {
   "display_name": "Python 3",
   "language": "python",
   "name": "python3"
  },
  "language_info": {
   "codemirror_mode": {
    "name": "ipython",
    "version": 3
   },
   "file_extension": ".py",
   "mimetype": "text/x-python",
   "name": "python",
   "nbconvert_exporter": "python",
   "pygments_lexer": "ipython3",
   "version": "3.8.8"
  }
 },
 "nbformat": 4,
 "nbformat_minor": 5
}
