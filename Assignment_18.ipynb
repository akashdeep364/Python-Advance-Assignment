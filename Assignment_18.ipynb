{
 "cells": [
  {
   "cell_type": "markdown",
   "id": "330b4645",
   "metadata": {},
   "source": [
    "# Q1. Describe the differences between text and binary files in a single paragraph."
   ]
  },
  {
   "cell_type": "code",
   "execution_count": 1,
   "id": "039fcef1",
   "metadata": {},
   "outputs": [],
   "source": [
    "# Ans : Binary files typically contain a sequence of bytes, or ordered groupings of eight bits.When creating a custom \n",
    "#       file format for a program,  these bytes are arranged into a format that stores the necessary information for\n",
    "#       the application. Binary file formats may include multiple types of data in the same file, such as image, video,\n",
    "#       and audio data. This data can be interpreted by supporting programs, but will show up as garbled text in a \n",
    "#       text editor. \n",
    "\n",
    "#       Text files are more restrictive than binary files since they can only contain textual data.However, unlike \n",
    "#       binary files, they are less likely to become corrupted. While a small error in a binary file may \n",
    "#       make it unreadable, a small error in a text file may simply show up once the file has been opened. Text files\n",
    "#       may be saved in either a plain text (.TXT) format and rich text (.RTF) format. A typical plain text file \n",
    "#       contains several lines of text that are each followed by an End-of-Line (EOL) character. An End-of-File (EOF) \n",
    "#       marker is placed after the final character, which signals the end of the file. Rich text files use a similar\n",
    "#       file structure, but may also include text styles, such as bold and italics, as well as page formatting \n",
    "#       information. Both plain text and rich text files include a (character encoding) scheme that determines how the\n",
    "#       characters are interpreted and what characters can be displayed. Since text files use a simple, standard \n",
    "#       format, many programs are capable of reading and editing text files."
   ]
  },
  {
   "cell_type": "markdown",
   "id": "aa47127e",
   "metadata": {},
   "source": [
    "# Q2. What are some scenarios where using text files will be the better option? When would you like to use binary files instead of text files?"
   ]
  },
  {
   "cell_type": "code",
   "execution_count": 2,
   "id": "d864e8a8",
   "metadata": {},
   "outputs": [],
   "source": [
    "# Ans : Text files include small size and versatility. Kilobytes or megabytes smaller than the same data stored in \n",
    "#       other formats, they can be rapidly and massively exchanged via email or disk. Most can be opened on computers\n",
    "#       running diverse operating systems, using very basic software. Binary files is that they are more efficient. \n",
    "#       In terms of memory, storing values using numeric formats, rather than as text characters, tends to use less \n",
    "#       memory. In addition, binary formats also offer advantages in terms of speed of access."
   ]
  },
  {
   "cell_type": "markdown",
   "id": "874ad53b",
   "metadata": {},
   "source": [
    "# Q3. What are some of the issues with using binary operations to read and write a Python integer directly to disc?"
   ]
  },
  {
   "cell_type": "code",
   "execution_count": 3,
   "id": "2818c626",
   "metadata": {},
   "outputs": [],
   "source": [
    "# Ans : When we read or write a python integer using binary operations \n",
    "#       a)Binary operations deal with raw data\n",
    "#       b)one needs to identify how many bytes one would read or write."
   ]
  },
  {
   "cell_type": "markdown",
   "id": "529551f6",
   "metadata": {},
   "source": [
    "# Q4. Describe a benefit of using the with keyword instead of explicitly opening a file."
   ]
  },
  {
   "cell_type": "code",
   "execution_count": 4,
   "id": "2a6d1e87",
   "metadata": {},
   "outputs": [],
   "source": [
    "# Ans : When a file is opened using the 'with' keyword, if some exceptions occur after opening a file, or at the end\n",
    "#       of the file it automatically does the closing of the file. There by not leaving an file in open mode and there\n",
    "#       would no need to explicitly close a file."
   ]
  },
  {
   "cell_type": "markdown",
   "id": "c7a542ea",
   "metadata": {},
   "source": [
    "# Q5. Does Python have the trailing newline while reading a line of text? Does Python append a newline when you write a line of text?"
   ]
  },
  {
   "cell_type": "code",
   "execution_count": 5,
   "id": "5091a9a9",
   "metadata": {},
   "outputs": [],
   "source": [
    "# Ans : While reading a newline of text from atext file, python reads the newline also.\n",
    "#       While writing the python doesnt append a new line at end of line. It has to be handled explicitly."
   ]
  },
  {
   "cell_type": "markdown",
   "id": "0678fb5f",
   "metadata": {},
   "source": [
    "# Q6. What file operations enable for random-access operation?"
   ]
  },
  {
   "cell_type": "code",
   "execution_count": 6,
   "id": "e43799b6",
   "metadata": {},
   "outputs": [],
   "source": [
    "# Ans : The file operations like seek(pos,orig), tell() enable random access operations."
   ]
  },
  {
   "cell_type": "markdown",
   "id": "78075c5a",
   "metadata": {},
   "source": [
    "# Q7. When do you think you&#39;ll use the struct package the most?"
   ]
  },
  {
   "cell_type": "code",
   "execution_count": 7,
   "id": "55e99264",
   "metadata": {},
   "outputs": [
    {
     "data": {
      "text/plain": [
       "(155,)"
      ]
     },
     "execution_count": 7,
     "metadata": {},
     "output_type": "execute_result"
    }
   ],
   "source": [
    "# Ans : The struct package is mostly used while converting a common python types into 'C' language types.This is done \n",
    "#       by packing python variables into data fields of specific sizes.So, when we try read , right number of bytes are\n",
    "#       read. This useful when interacting with existing binary files.\n",
    "#       Reading and writing a single integer using struct package\n",
    "from struct import pack, unpack, calcsize\n",
    "def write_file(fname,int_n):\n",
    "    with open(fname,'wb') as f:\n",
    "        bss=pack('h',int_n)\n",
    "        f.write(bss)\n",
    "def read_file(fname):\n",
    "    with open(fname,'rb') as rf:\n",
    "        bss=rf.read(calcsize('h'))\n",
    "        return unpack('h',bss)\n",
    "write_file('struct_file1.dat',155)\n",
    "read_file('struct_file1.dat')"
   ]
  },
  {
   "cell_type": "markdown",
   "id": "f3b5fa18",
   "metadata": {},
   "source": [
    "# Q8. When is pickling the best option?"
   ]
  },
  {
   "cell_type": "code",
   "execution_count": 8,
   "id": "e58c88bf",
   "metadata": {},
   "outputs": [],
   "source": [
    "# Ans : Once a file is created it can be read by other python programs. The functions available in the pickle package\n",
    "#       take care how to represent the data is written in th file."
   ]
  },
  {
   "cell_type": "markdown",
   "id": "b552ff02",
   "metadata": {},
   "source": [
    "# Q9. When will it be best to use the shelve package?"
   ]
  },
  {
   "cell_type": "code",
   "execution_count": 9,
   "id": "7cc6aefa",
   "metadata": {},
   "outputs": [],
   "source": [
    "# Ans : Shelve package is used to pickle data but treats the treats the entire file as dictionary. The location of any\n",
    "#       object is looked up according to its key and is returned easily."
   ]
  },
  {
   "cell_type": "markdown",
   "id": "660269fa",
   "metadata": {},
   "source": [
    "# Q10. What is a special restriction when using the shelve package, as opposed to using other data dictionaries?"
   ]
  },
  {
   "cell_type": "code",
   "execution_count": null,
   "id": "7662fb9c",
   "metadata": {},
   "outputs": [],
   "source": [
    "# Ans : A “shelf” is a persistent, dictionary-like object. The difference with “dbm” databases is that the values \n",
    "#      (not the keys!) in a shelf can be essentially arbitrary Python objects — anything that the pickle module can\n",
    "#       handle. This includes most class instances, recursive data types, and objects containing lots of shared \n",
    "#       sub-objects. The keys are ordinary strings."
   ]
  }
 ],
 "metadata": {
  "kernelspec": {
   "display_name": "Python 3",
   "language": "python",
   "name": "python3"
  },
  "language_info": {
   "codemirror_mode": {
    "name": "ipython",
    "version": 3
   },
   "file_extension": ".py",
   "mimetype": "text/x-python",
   "name": "python",
   "nbconvert_exporter": "python",
   "pygments_lexer": "ipython3",
   "version": "3.8.8"
  }
 },
 "nbformat": 4,
 "nbformat_minor": 5
}
