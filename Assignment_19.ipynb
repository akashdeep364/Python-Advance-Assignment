{
 "cells": [
  {
   "cell_type": "markdown",
   "id": "fa006156",
   "metadata": {},
   "source": [
    "# Q1. Define the relationship between a class and its instances. Is it a one-to-one or a one-to-many partnership, for example?"
   ]
  },
  {
   "cell_type": "code",
   "execution_count": 1,
   "id": "b4ab3f19",
   "metadata": {},
   "outputs": [],
   "source": [
    "# Ans : Class is abstraction of an real world entity. It consists of attributes and methods. Instance is an object of\n",
    "#       a class. It one to many relationship between class and its instatnces."
   ]
  },
  {
   "cell_type": "markdown",
   "id": "31f507a9",
   "metadata": {},
   "source": [
    "# Q2. What kind of data is held only in an instance?"
   ]
  },
  {
   "cell_type": "code",
   "execution_count": 2,
   "id": "deca8b0f",
   "metadata": {},
   "outputs": [],
   "source": [
    "# Ans : Instance objects contains the Instance variables which are specific to that specific Instance object."
   ]
  },
  {
   "cell_type": "markdown",
   "id": "ba1c99ea",
   "metadata": {},
   "source": [
    "# Q3. What kind of knowledge is stored in a class?"
   ]
  },
  {
   "cell_type": "code",
   "execution_count": 3,
   "id": "092d8365",
   "metadata": {},
   "outputs": [],
   "source": [
    "# Ans : Class creates a user-defined data structure, which holds its own data members and member functions,which can be\n",
    "#       accessed and used by creating an instance of that class. A class is like a blueprint for an object. "
   ]
  },
  {
   "cell_type": "markdown",
   "id": "d2a2348a",
   "metadata": {},
   "source": [
    "# Q4. What exactly is a method, and how is it different from a regular function? "
   ]
  },
  {
   "cell_type": "code",
   "execution_count": 4,
   "id": "006decd7",
   "metadata": {},
   "outputs": [],
   "source": [
    "# Ans : The methods with a class can be used to access the insatnce variables of its instance. So, the object's state \n",
    "#       can be modified by its method.Function cant access the attributes of an instance of a class or cant modify \n",
    "#       the state of the object."
   ]
  },
  {
   "cell_type": "markdown",
   "id": "2b14c935",
   "metadata": {},
   "source": [
    "# Q5. Is inheritance supported in Python, and if so, what is the syntax?"
   ]
  },
  {
   "cell_type": "code",
   "execution_count": 5,
   "id": "2028cb85",
   "metadata": {},
   "outputs": [
    {
     "name": "stdout",
     "output_type": "stream",
     "text": [
      "Class of Instance: <class '__main__.B'>\n",
      "Base class: (<class '__main__.A'>,)\n"
     ]
    }
   ],
   "source": [
    "# Ans : Inheritance is supported by python\n",
    "#       Example of Inheritance:\n",
    "class A:\n",
    "        var=1\n",
    "        def __init__(self):\n",
    "            pass\n",
    "class B(A): # class B is detived from class A\n",
    "    def __init__(self):\n",
    "        super().__init__()\n",
    "c=B()\n",
    "print(\"Class of Instance:\",c.__class__)\n",
    "print(\"Base class:\",c.__class__.__bases__)"
   ]
  },
  {
   "cell_type": "markdown",
   "id": "66a4780d",
   "metadata": {},
   "source": [
    "# Q6. How much encapsulation (making instance or class variables private) does Python support?"
   ]
  },
  {
   "cell_type": "code",
   "execution_count": 6,
   "id": "1bf90493",
   "metadata": {},
   "outputs": [],
   "source": [
    "# Ans : Encapsulation prevents from accessing accidentally, but not intentionally. The private attributes and methods \n",
    "#       are not really hidden. The private attributes can be accessed within the object method."
   ]
  },
  {
   "cell_type": "markdown",
   "id": "747e3509",
   "metadata": {},
   "source": [
    "# Q7. How do you distinguish between a class variable and an instance variable?"
   ]
  },
  {
   "cell_type": "code",
   "execution_count": 7,
   "id": "d46187dc",
   "metadata": {},
   "outputs": [],
   "source": [
    "# Ans : The class attribute is available to all the instance objects of that class. Instance variable is accessible \n",
    "#       only to the object or Instance of that class."
   ]
  },
  {
   "cell_type": "markdown",
   "id": "b7db719e",
   "metadata": {},
   "source": [
    "# Q8. When, if ever, can self be included in a class&#39;s method definitions?"
   ]
  },
  {
   "cell_type": "code",
   "execution_count": 8,
   "id": "716fe44b",
   "metadata": {},
   "outputs": [],
   "source": [
    "# Ans : self can included to access the class variables and instance variiables."
   ]
  },
  {
   "cell_type": "markdown",
   "id": "4ec0e1b5",
   "metadata": {},
   "source": [
    "# Q9. What is the difference between the _ _add_ _ and the _ _radd_ _ methods?"
   ]
  },
  {
   "cell_type": "code",
   "execution_count": 9,
   "id": "6673a756",
   "metadata": {},
   "outputs": [],
   "source": [
    "# Ans : When you add two numbers using the + operator, internally, the __add__() method will be called.We can overload\n",
    "#       this method to perform"
   ]
  },
  {
   "cell_type": "markdown",
   "id": "1bee6323",
   "metadata": {},
   "source": [
    "# Q10. When is it necessary to use a reflection method? When do you not need it, even though you support the operation in question?"
   ]
  },
  {
   "cell_type": "code",
   "execution_count": null,
   "id": "4d1167c7",
   "metadata": {},
   "outputs": [],
   "source": [
    "# Ans : Suppose we are implementing a class that you want to act like a number via operator overloading.So we implement\n",
    "#       __add__ in your class, and now expressions like obj + 10 is acceptable.This is because obj + 10 is interpreted\n",
    "#       as obj.__add__(10), and the custom method __add__ can do whatever it means to add 10 to custom class.\n",
    "#       However, what about an expression like 10 + obj which is really (10).__add__(myobj)? \n",
    "#       The 10 is an instance of a Python built-in type and its __add__ method doesn't know anything \n",
    "#       about the new type,obj, so it will return a error NotImplemented. \n",
    "#       To handle such scenarios, __radd__ is used. Python will first try (10).__add__(myobj), \n",
    "#       and if that returns NotImplemented, Python will check if the right-hand operand implements \n",
    "#       __radd__, and if it does, it will call obj.__radd__(10) rather than raising a TypeError."
   ]
  },
  {
   "cell_type": "markdown",
   "id": "754b47a3",
   "metadata": {},
   "source": [
    "# Q11. What is the _ _iadd_ _ method called?"
   ]
  },
  {
   "cell_type": "code",
   "execution_count": 11,
   "id": "ada157e4",
   "metadata": {},
   "outputs": [
    {
     "name": "stdout",
     "output_type": "stream",
     "text": [
      "5\n"
     ]
    }
   ],
   "source": [
    "# Ans : __iadd__ method is called when we use implementation like a+=b which is a.__iadd__(b)\n",
    "class A:\n",
    "    def __init__(self,x):\n",
    "        self.x=x\n",
    "    def __iadd__(self,other):\n",
    "        self.x += other.x\n",
    "        return self.x\n",
    "obj1=A(2)\n",
    "obj2=A(3)\n",
    "obj1+=obj2\n",
    "print(obj1)"
   ]
  },
  {
   "cell_type": "markdown",
   "id": "8dde49b3",
   "metadata": {},
   "source": [
    "#  Q12. Is the _ _init_ _ method inherited by subclasses? What do you do if you need to customize its behavior within a subclass?"
   ]
  },
  {
   "cell_type": "code",
   "execution_count": 12,
   "id": "bf71e0d6",
   "metadata": {},
   "outputs": [
    {
     "data": {
      "text/plain": [
       "7"
      ]
     },
     "execution_count": 12,
     "metadata": {},
     "output_type": "execute_result"
    }
   ],
   "source": [
    "# Ans : __init__ method is inherited by its subclass. But it can be overloaded, to customize it\n",
    "class A:\n",
    "    def __init__(self,x):\n",
    "        self.x=x\n",
    "class B(A):\n",
    "    pass\n",
    "obj=B(2)\n",
    "obj.x \n",
    "#        here the value x is accessible to instance of class B which is subclass of class A.This means\n",
    "#        __init__ of class A is inherited in sub class B\n",
    "class C(A):\n",
    "    def __init__(self,x,y): # Here we are overloading the __init__ inherited from class A \n",
    "        self.x=x\n",
    "        self.y=y\n",
    "    def func(self):\n",
    "        return(self.x + self.y)\n",
    "obj1=C(3,4)\n",
    "obj1.func()"
   ]
  }
 ],
 "metadata": {
  "kernelspec": {
   "display_name": "Python 3",
   "language": "python",
   "name": "python3"
  },
  "language_info": {
   "codemirror_mode": {
    "name": "ipython",
    "version": 3
   },
   "file_extension": ".py",
   "mimetype": "text/x-python",
   "name": "python",
   "nbconvert_exporter": "python",
   "pygments_lexer": "ipython3",
   "version": "3.8.8"
  }
 },
 "nbformat": 4,
 "nbformat_minor": 5
}
