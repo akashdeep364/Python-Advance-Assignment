{
 "cells": [
  {
   "cell_type": "markdown",
   "id": "a710cda0",
   "metadata": {},
   "source": [
    "# Assignment_2"
   ]
  },
  {
   "cell_type": "markdown",
   "id": "a606b630",
   "metadata": {},
   "source": [
    "# Q1. What is the relationship between classes and modules?"
   ]
  },
  {
   "cell_type": "markdown",
   "id": "35ac6bf7",
   "metadata": {},
   "source": [
    "    Modules are about providing methods that you can use across multiple classes. Modules are about functions. You dont instantiate modules(e.g. Math module) you just use methods in them.Module is like library of methods. \n",
    "    Classes are about objects; it can hold its state (by keeping track of instance variables) and be duplicated as many times as you want. "
   ]
  },
  {
   "cell_type": "markdown",
   "id": "ebd60c45",
   "metadata": {},
   "source": [
    "# Q2. How do you make instances and classes?"
   ]
  },
  {
   "cell_type": "markdown",
   "id": "0ef1ad24",
   "metadata": {},
   "source": [
    " To create instances of a class, you call the class using class name and pass in whatever arguments its __init__ method accepts.\n",
    "    \n",
    "    The class statement creates a new class definition. The name of the class immediately follows the keyword class followed by a colon.Explained below "
   ]
  },
  {
   "cell_type": "code",
   "execution_count": 1,
   "id": "91d855cd",
   "metadata": {},
   "outputs": [
    {
     "name": "stdout",
     "output_type": "stream",
     "text": [
      "This is Akash Deep (an instance of a class Student)\n"
     ]
    }
   ],
   "source": [
    "class Student:\n",
    "    def __init__(self,name):\n",
    "        self.name = name\n",
    "    \n",
    "    def __str__(self):\n",
    "        return f\"This is {self.name} (an instance of a class Student)\"\n",
    "    \n",
    "student1 = Student(\"Akash Deep\")       \n",
    "print(student1)"
   ]
  },
  {
   "cell_type": "markdown",
   "id": "22d533a5",
   "metadata": {},
   "source": [
    "# Q3. Where and how should be class attributes created?"
   ]
  },
  {
   "cell_type": "markdown",
   "id": "443a4e25",
   "metadata": {},
   "source": [
    "Class attributes belong to the class itself they will be shared by all the instances. Such attributes are defined in the class body parts usually at the top, for legibility.    "
   ]
  },
  {
   "cell_type": "code",
   "execution_count": 2,
   "id": "d610c5f8",
   "metadata": {},
   "outputs": [
    {
     "name": "stdout",
     "output_type": "stream",
     "text": [
      "Johnson\n"
     ]
    }
   ],
   "source": [
    "class Student:\n",
    "    class_teacher = 'Johnson' # class attribute\n",
    "    \n",
    "    def __init__(self,name, roll_no): # to bind attributes to class when object is created\n",
    "        self.name = name \n",
    "        self.roll_no = roll_no\n",
    "    \n",
    "    def __str__(self):\n",
    "        return f\"This is {self.name} (an instance of a class Student)\"\n",
    "    \n",
    "student1 = Student(\"Akash Deep\",25)  \n",
    "\n",
    "print(student1.class_teacher) \n"
   ]
  },
  {
   "cell_type": "markdown",
   "id": "ae03c729",
   "metadata": {},
   "source": [
    "# Q4. Where and how are instance attributes created?"
   ]
  },
  {
   "cell_type": "markdown",
   "id": "bd9e535c",
   "metadata": {},
   "source": [
    "Unlike class attributes, instance attributes are not shared by objects. Every object has its own copy of the instance attribute. They are created in __init__ method. How they are created is Explained below::"
   ]
  },
  {
   "cell_type": "code",
   "execution_count": 4,
   "id": "cc0ce4a7",
   "metadata": {},
   "outputs": [
    {
     "name": "stdout",
     "output_type": "stream",
     "text": [
      "Akash Deep\n",
      "25\n"
     ]
    }
   ],
   "source": [
    "class Student:\n",
    "    def __init__(self,name, roll_no): # to bind attributes to class when object is created\n",
    "        self.name = name \n",
    "        self.roll_no = roll_no\n",
    "    \n",
    "    def __str__(self):\n",
    "        return f\"This is {self.name} (an instance of a class Student)\"\n",
    "    \n",
    "student1 = Student(\"Akash Deep\",25)  \n",
    "\n",
    "print(student1.name) # attributes are accessed by objects\n",
    "print(student1.roll_no)"
   ]
  },
  {
   "cell_type": "markdown",
   "id": "b539de10",
   "metadata": {},
   "source": [
    "# Q5. What does the term \"self\" in a Python class mean?"
   ]
  },
  {
   "cell_type": "markdown",
   "id": "3df9a3f9",
   "metadata": {},
   "source": [
    "Self represents the instance of the class. By using the “self” keyword we can access the attributes and methods of the class in python. It binds the attributes with the given arguments.The reason you need to use self. is because Python does not use the @ syntax to refer to instance attributes. Python decided to do methods in a way that makes the instance to which the method belongs be passed automatically, but not received automatically: the first parameter of methods is the instance the method is called on."
   ]
  },
  {
   "cell_type": "markdown",
   "id": "b478fb27",
   "metadata": {},
   "source": [
    "# Q6. How does a Python class handle operator overloading?"
   ]
  },
  {
   "cell_type": "markdown",
   "id": "c1831d8b",
   "metadata": {},
   "source": [
    "Operator Overloading means giving extended meaning beyond their predefined operational meaning. For example operator + is used to add two integers as well as join two strings and merge two lists. It is achievable because ‘+’ operator is overloaded by int class and str class. "
   ]
  },
  {
   "cell_type": "code",
   "execution_count": 5,
   "id": "c8054553",
   "metadata": {},
   "outputs": [
    {
     "name": "stdout",
     "output_type": "stream",
     "text": [
      "3\n",
      "abcdefg\n",
      "39\n",
      "IneuronIneuronIneuronIneuron\n"
     ]
    }
   ],
   "source": [
    "# + and * operator is used for different purpose\n",
    "\n",
    "print(1 + 2)\n",
    " \n",
    "# concatenate two strings\n",
    "print(\"abcd\"+\"efg\")\n",
    " \n",
    "# Product two numbers\n",
    "print(13 * 3)\n",
    " \n",
    "# Repeat the String\n",
    "print(\"Ineuron\"*4)"
   ]
  },
  {
   "cell_type": "markdown",
   "id": "30db78a2",
   "metadata": {},
   "source": [
    "# Q7. When do you consider allowing operator overloading of your classes?"
   ]
  },
  {
   "cell_type": "markdown",
   "id": "98adac6f",
   "metadata": {},
   "source": [
    "Let us assumewe have an object called string1 which is a string object as defined below. Now, when we try to add a string to this string object, the compiler will throw an error. This is because the compiler doesn't know how to add them. "
   ]
  },
  {
   "cell_type": "code",
   "execution_count": 6,
   "id": "bdcbc46f",
   "metadata": {},
   "outputs": [
    {
     "ename": "TypeError",
     "evalue": "unsupported operand type(s) for +: 'String' and 'str'",
     "output_type": "error",
     "traceback": [
      "\u001b[1;31m---------------------------------------------------------------------------\u001b[0m",
      "\u001b[1;31mTypeError\u001b[0m                                 Traceback (most recent call last)",
      "\u001b[1;32m<ipython-input-6-57c4524b4029>\u001b[0m in \u001b[0;36m<module>\u001b[1;34m\u001b[0m\n\u001b[0;32m      9\u001b[0m \u001b[1;33m\u001b[0m\u001b[0m\n\u001b[0;32m     10\u001b[0m \u001b[1;31m# concatenate String object and a string\u001b[0m\u001b[1;33m\u001b[0m\u001b[1;33m\u001b[0m\u001b[1;33m\u001b[0m\u001b[0m\n\u001b[1;32m---> 11\u001b[1;33m \u001b[0mprint\u001b[0m\u001b[1;33m(\u001b[0m\u001b[0mstring1\u001b[0m \u001b[1;33m+\u001b[0m\u001b[1;34m' world'\u001b[0m\u001b[1;33m)\u001b[0m\u001b[1;33m\u001b[0m\u001b[1;33m\u001b[0m\u001b[0m\n\u001b[0m",
      "\u001b[1;31mTypeError\u001b[0m: unsupported operand type(s) for +: 'String' and 'str'"
     ]
    }
   ],
   "source": [
    "# declare our own string class\n",
    "class String:\n",
    "    def __init__(self, string):\n",
    "            self.string = string         \n",
    "    def __repr__(self):\n",
    "        return 'Object: {}'.format(self.string)\n",
    "\n",
    "string1 = String('Hello')    \n",
    "\n",
    "# concatenate String object and a string\n",
    "print(string1 +' world')"
   ]
  },
  {
   "cell_type": "markdown",
   "id": "9264ff09",
   "metadata": {},
   "source": [
    "### This error can be avoided by adding the __ add__ method to the String class. This way, we are overloading the + operator to concatenate a string object with a string."
   ]
  },
  {
   "cell_type": "code",
   "execution_count": 7,
   "id": "dac8e42d",
   "metadata": {},
   "outputs": [
    {
     "name": "stdout",
     "output_type": "stream",
     "text": [
      "Hello world\n"
     ]
    }
   ],
   "source": [
    "# declare our own string class\n",
    "class String:\n",
    "    def __init__(self, string):\n",
    "            self.string = string         \n",
    "                \n",
    "    def __add__(self, other):\n",
    "          return self.string + other\n",
    "            \n",
    "    def __repr__(self):\n",
    "        return 'Object: {}'.format(self.string)\n",
    "\n",
    "string1 = String('Hello')    \n",
    "\n",
    "# concatenate String object and a string\n",
    "print(string1 +' world')"
   ]
  },
  {
   "cell_type": "markdown",
   "id": "b8c6617e",
   "metadata": {},
   "source": [
    "# Q8. What is the most popular form of operator overloading?"
   ]
  },
  {
   "cell_type": "markdown",
   "id": "497d360c",
   "metadata": {},
   "source": [
    "I feel, most popular form of operator overloading is of addition (+) operator. When two integers are passed to + operator, it will return the sum of two integers. When two strings are passed to + operator, it will return concatenation of two strings."
   ]
  },
  {
   "cell_type": "markdown",
   "id": "7671b91a",
   "metadata": {},
   "source": [
    "# Q9. What are the two most important concepts to grasp in order to comprehend Python OOP code?"
   ]
  },
  {
   "cell_type": "markdown",
   "id": "472d4861",
   "metadata": {},
   "source": [
    "1. Inheritance."
   ]
  },
  {
   "cell_type": "markdown",
   "id": "87e8db4d",
   "metadata": {},
   "source": [
    "2. Polymorphism."
   ]
  }
 ],
 "metadata": {
  "kernelspec": {
   "display_name": "Python 3",
   "language": "python",
   "name": "python3"
  },
  "language_info": {
   "codemirror_mode": {
    "name": "ipython",
    "version": 3
   },
   "file_extension": ".py",
   "mimetype": "text/x-python",
   "name": "python",
   "nbconvert_exporter": "python",
   "pygments_lexer": "ipython3",
   "version": "3.8.8"
  }
 },
 "nbformat": 4,
 "nbformat_minor": 5
}
