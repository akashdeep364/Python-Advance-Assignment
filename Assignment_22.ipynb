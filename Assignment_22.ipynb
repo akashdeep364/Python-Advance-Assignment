{
 "cells": [
  {
   "cell_type": "markdown",
   "id": "43e17e3d",
   "metadata": {},
   "source": [
    "# Q1. What are the benefits of the built-in array package, if any?"
   ]
  },
  {
   "cell_type": "code",
   "execution_count": 1,
   "id": "1094e231",
   "metadata": {},
   "outputs": [],
   "source": [
    "# Ans : Arrays represent multiple data items of the same type using a single name.In arrays, the elements can be \n",
    "#       accessed randomly by using the index number. Arrays allocate memory in contiguous memory locations for all its\n",
    "#       elements. Hence there is no chance of extra memory being allocated in case of arrays. This avoids memory \n",
    "#       overflow or shortage of memory in arrays."
   ]
  },
  {
   "cell_type": "markdown",
   "id": "e0cf93ec",
   "metadata": {},
   "source": [
    "# Q2. What are some of the array package&#39;s limitations?"
   ]
  },
  {
   "cell_type": "code",
   "execution_count": 2,
   "id": "7de18cc7",
   "metadata": {},
   "outputs": [],
   "source": [
    "# Ans : The number of elements to be stored in an array should be known in advance. An array is a static structure \n",
    "#      (which means the array is of fixed size). Once declared the size of the array cannot be modified. The memory \n",
    "#       which is allocated to it cannot be increased or decreased. Insertion and deletion are quite difficult in an \n",
    "#       array as the elements are stored in consecutive memory locations and the shifting operation is costly. \n",
    "#       Allocating more memory than the requirement leads to wastage of memory space and less allocation of memory \n",
    "#       also leads to a problem."
   ]
  },
  {
   "cell_type": "markdown",
   "id": "4a500e6e",
   "metadata": {},
   "source": [
    "# Q3. Describe the main differences between the array and numpy packages."
   ]
  },
  {
   "cell_type": "code",
   "execution_count": 3,
   "id": "698a532f",
   "metadata": {},
   "outputs": [],
   "source": [
    "# Ans : The array package doesn't provide any help with numerical calculation with the items insdie it in number form \n",
    "#       while NumPy give you a wide variety of numerical operations. An array is a single dimensional entity which hold\n",
    "#       the numerical data, while numpy can have more than 1 dimension.In case of array, item can be accessed by its\n",
    "#       index position and it is easy task while in numpy item is accessed by its column and row index, which makes \n",
    "#       it slightly time taking. Same goes with appending operation.In case of array we do not form a tabular \n",
    "#       structure, while in numpy it forms a tabular structure."
   ]
  },
  {
   "cell_type": "markdown",
   "id": "08cf3e81",
   "metadata": {},
   "source": [
    "# Q4. Explain the distinctions between the empty, ones, and zeros functions."
   ]
  },
  {
   "cell_type": "code",
   "execution_count": 5,
   "id": "49f7241b",
   "metadata": {},
   "outputs": [],
   "source": [
    "# Ans : Empty function: An empty function is a function that does not contain any statement within its body. If you \n",
    "#       try to write a function definition without any statement in python ,it will return an error. To avoid this,\n",
    "#       we use pass statement. pass is a special statement in Python that does nothing. It only works as a dummy \n",
    "#       statement ones: This function returns a new array of given shape and data type, where the element’s value is 1.\n",
    "#       zeros: This function returns a new array of given shape and data type, where the element’s value is 0"
   ]
  },
  {
   "cell_type": "markdown",
   "id": "dda970c5",
   "metadata": {},
   "source": [
    "# Q5. In the fromfunction function, which is used to construct new arrays, what is the role of the callable argument?"
   ]
  },
  {
   "cell_type": "code",
   "execution_count": 6,
   "id": "46ab502c",
   "metadata": {},
   "outputs": [],
   "source": [
    "# Ans : Its function is to execute the function over each coordinate and the resulting array. The function is called\n",
    "#       with N parameters, where N is the rank of shape. Each parameter represents the coordinates of the array \n",
    "#       varying along a specific axis."
   ]
  },
  {
   "cell_type": "markdown",
   "id": "22449153",
   "metadata": {},
   "source": [
    "# Q6. What happens when a numpy array is combined with a single-value operand (a scalar, such as an int or a floating-point value) through addition, as in the expression A + n?"
   ]
  },
  {
   "cell_type": "code",
   "execution_count": 12,
   "id": "121b40cd",
   "metadata": {},
   "outputs": [
    {
     "name": "stdout",
     "output_type": "stream",
     "text": [
      "[[0 1 2]\n",
      " [3 4 5]\n",
      " [6 7 8]]\n",
      "\n",
      "[[1 2 3]\n",
      " [4 5 6]\n",
      " [7 8 9]]\n"
     ]
    }
   ],
   "source": [
    "# Ans : If any scaler value such as integer is added to the numpy array then all the elements inside the array \n",
    "#       will add that value in it.\n",
    "#       Example :\n",
    "import numpy as np\n",
    "a=np.arange(9).reshape(3,3)\n",
    "print(a)\n",
    "print()\n",
    "print(a+1)"
   ]
  },
  {
   "cell_type": "markdown",
   "id": "d3a5cff9",
   "metadata": {},
   "source": [
    "# Q7. Can array-to-scalar operations use combined operation-assign operators (such as += or *=)? What is the outcome?"
   ]
  },
  {
   "cell_type": "code",
   "execution_count": 14,
   "id": "09c952ca",
   "metadata": {},
   "outputs": [],
   "source": [
    "# Ans : It will do the operation as per operators. Like if we use + operand it will update the current array by adding \n",
    "#       and when we use '*', it will update by multiplying."
   ]
  },
  {
   "cell_type": "code",
   "execution_count": 15,
   "id": "ec67e48e",
   "metadata": {},
   "outputs": [
    {
     "name": "stdout",
     "output_type": "stream",
     "text": [
      "[[0 1 2]\n",
      " [3 4 5]\n",
      " [6 7 8]]\n"
     ]
    }
   ],
   "source": [
    "#      Example :\n",
    "print(a)"
   ]
  },
  {
   "cell_type": "code",
   "execution_count": 17,
   "id": "41eb2b00",
   "metadata": {},
   "outputs": [
    {
     "name": "stdout",
     "output_type": "stream",
     "text": [
      "[[ 2  3  4]\n",
      " [ 5  6  7]\n",
      " [ 8  9 10]]\n"
     ]
    }
   ],
   "source": [
    "a+=1\n",
    "print(a)"
   ]
  },
  {
   "cell_type": "code",
   "execution_count": 18,
   "id": "70b18507",
   "metadata": {},
   "outputs": [
    {
     "name": "stdout",
     "output_type": "stream",
     "text": [
      "[[ 4  6  8]\n",
      " [10 12 14]\n",
      " [16 18 20]]\n"
     ]
    }
   ],
   "source": [
    "a*=2\n",
    "print(a)"
   ]
  },
  {
   "cell_type": "markdown",
   "id": "306017e4",
   "metadata": {},
   "source": [
    "# Q8. Does a numpy array contain fixed-length strings? What happens if you allocate a longer string to one of these arrays?"
   ]
  },
  {
   "cell_type": "code",
   "execution_count": 19,
   "id": "b96a5f75",
   "metadata": {},
   "outputs": [
    {
     "data": {
      "text/plain": [
       "array(['ram', 'mohan', 'shiva'], dtype='<U5')"
      ]
     },
     "execution_count": 19,
     "metadata": {},
     "output_type": "execute_result"
    }
   ],
   "source": [
    "# Ans : Yes it is possible that we can include a string of fixed length in numpy array. The dtype of any numpy array \n",
    "#       containing string values is the maximum length of any string present in the array.\n",
    "#       Once set, it will only be able to store new string having length not more than the maximum length at the time \n",
    "#       of the creation. If we try to reassign some another string value having length greater than the maximum length\n",
    "#       of the existing elements, it simply discards all the values beyond the maximum length accept upto those values \n",
    "#       which are under the limit.\n",
    "import numpy as np\n",
    "name = np.array(['ram', 'mohan', 'shiva'])\n",
    "name"
   ]
  },
  {
   "cell_type": "code",
   "execution_count": 21,
   "id": "bb7667e7",
   "metadata": {},
   "outputs": [
    {
     "name": "stdout",
     "output_type": "stream",
     "text": [
      "['under' 'mohan' 'shiva']\n"
     ]
    }
   ],
   "source": [
    "name[name=='ram']='undertaker'\n",
    "print(name)"
   ]
  },
  {
   "cell_type": "markdown",
   "id": "91506bb3",
   "metadata": {},
   "source": [
    "# Q9. What happens when you combine two numpy arrays using an operation like addition (+) or multiplication (*)? What are the conditions for combining two numpy arrays?"
   ]
  },
  {
   "cell_type": "code",
   "execution_count": 22,
   "id": "ac63cbab",
   "metadata": {},
   "outputs": [
    {
     "data": {
      "text/plain": [
       "array([[ 4,  6,  8],\n",
       "       [10, 12, 14],\n",
       "       [16, 18, 20]])"
      ]
     },
     "execution_count": 22,
     "metadata": {},
     "output_type": "execute_result"
    }
   ],
   "source": [
    "# Ans : It will simply add or multiply element to element at same position.The only requirement which must be met are:\n",
    "#      1)Data type should be same.\n",
    "#      2) Shape of the two matrices must be same\n",
    "#      Example is as follows :\n",
    "a1=a\n",
    "a1"
   ]
  },
  {
   "cell_type": "code",
   "execution_count": 23,
   "id": "c1bc0418",
   "metadata": {},
   "outputs": [
    {
     "data": {
      "text/plain": [
       "array([[ 6,  8, 10],\n",
       "       [12, 14, 16],\n",
       "       [18, 20, 22]])"
      ]
     },
     "execution_count": 23,
     "metadata": {},
     "output_type": "execute_result"
    }
   ],
   "source": [
    "a2=a+2\n",
    "a2"
   ]
  },
  {
   "cell_type": "code",
   "execution_count": 24,
   "id": "b72f4d3f",
   "metadata": {},
   "outputs": [
    {
     "data": {
      "text/plain": [
       "array([[10, 14, 18],\n",
       "       [22, 26, 30],\n",
       "       [34, 38, 42]])"
      ]
     },
     "execution_count": 24,
     "metadata": {},
     "output_type": "execute_result"
    }
   ],
   "source": [
    "a1+a2"
   ]
  },
  {
   "cell_type": "code",
   "execution_count": 25,
   "id": "e272b7cd",
   "metadata": {},
   "outputs": [
    {
     "data": {
      "text/plain": [
       "array([[ 24,  48,  80],\n",
       "       [120, 168, 224],\n",
       "       [288, 360, 440]])"
      ]
     },
     "execution_count": 25,
     "metadata": {},
     "output_type": "execute_result"
    }
   ],
   "source": [
    "a1*a2"
   ]
  },
  {
   "cell_type": "code",
   "execution_count": 26,
   "id": "a80408dd",
   "metadata": {},
   "outputs": [
    {
     "ename": "ValueError",
     "evalue": "operands could not be broadcast together with shapes (3,3) (9,1) ",
     "output_type": "error",
     "traceback": [
      "\u001b[1;31m---------------------------------------------------------------------------\u001b[0m",
      "\u001b[1;31mValueError\u001b[0m                                Traceback (most recent call last)",
      "\u001b[1;32m<ipython-input-26-f24d236b5a9f>\u001b[0m in \u001b[0;36m<module>\u001b[1;34m\u001b[0m\n\u001b[1;32m----> 1\u001b[1;33m \u001b[0ma1\u001b[0m\u001b[1;33m+\u001b[0m\u001b[0ma2\u001b[0m\u001b[1;33m.\u001b[0m\u001b[0mreshape\u001b[0m\u001b[1;33m(\u001b[0m\u001b[1;36m9\u001b[0m\u001b[1;33m,\u001b[0m\u001b[1;36m1\u001b[0m\u001b[1;33m)\u001b[0m\u001b[1;33m\u001b[0m\u001b[1;33m\u001b[0m\u001b[0m\n\u001b[0m",
      "\u001b[1;31mValueError\u001b[0m: operands could not be broadcast together with shapes (3,3) (9,1) "
     ]
    }
   ],
   "source": [
    "a1+a2.reshape(9,1)"
   ]
  },
  {
   "cell_type": "code",
   "execution_count": 27,
   "id": "3db52e65",
   "metadata": {},
   "outputs": [
    {
     "ename": "ValueError",
     "evalue": "operands could not be broadcast together with shapes (3,3) (9,1) ",
     "output_type": "error",
     "traceback": [
      "\u001b[1;31m---------------------------------------------------------------------------\u001b[0m",
      "\u001b[1;31mValueError\u001b[0m                                Traceback (most recent call last)",
      "\u001b[1;32m<ipython-input-27-4ba0754c30f9>\u001b[0m in \u001b[0;36m<module>\u001b[1;34m\u001b[0m\n\u001b[1;32m----> 1\u001b[1;33m \u001b[0ma1\u001b[0m\u001b[1;33m*\u001b[0m\u001b[0ma2\u001b[0m\u001b[1;33m.\u001b[0m\u001b[0mreshape\u001b[0m\u001b[1;33m(\u001b[0m\u001b[1;36m9\u001b[0m\u001b[1;33m,\u001b[0m\u001b[1;36m1\u001b[0m\u001b[1;33m)\u001b[0m\u001b[1;33m\u001b[0m\u001b[1;33m\u001b[0m\u001b[0m\n\u001b[0m",
      "\u001b[1;31mValueError\u001b[0m: operands could not be broadcast together with shapes (3,3) (9,1) "
     ]
    }
   ],
   "source": [
    "a1*a2.reshape(9,1)"
   ]
  },
  {
   "cell_type": "markdown",
   "id": "3f6ece48",
   "metadata": {},
   "source": [
    "# Q10. What is the best way to use a Boolean array to mask another array?"
   ]
  },
  {
   "cell_type": "code",
   "execution_count": 29,
   "id": "52037518",
   "metadata": {},
   "outputs": [
    {
     "name": "stdout",
     "output_type": "stream",
     "text": [
      "[True, True, masked, masked]\n",
      "1\n"
     ]
    }
   ],
   "source": [
    "# Ans : \n",
    "y = np.array([.True,True,False,True])          \n",
    "x = np.array([1,2,3,4])         \n",
    "m = np.ma.masked_where(x>2,y)  \n",
    "print(list(m))\n",
    "print(m.ndim)\n",
    "\n"
   ]
  },
  {
   "cell_type": "markdown",
   "id": "6b59368b",
   "metadata": {},
   "source": [
    "# Q11. What are three different ways to get the standard deviation of a wide collection of data using both standard Python and its packages? Sort the three of them by how quickly they execute."
   ]
  },
  {
   "cell_type": "code",
   "execution_count": 34,
   "id": "91f5b707",
   "metadata": {},
   "outputs": [],
   "source": [
    "# Ans : Standard deviation can be calculated in amny ways. If wee see the formula of SD, it says \n",
    "#       std= Square Root of [ Summation of [square of (x-mean)/number of observation] ] .So this can be achive by:\n",
    "#       1)Using math module :\n",
    "import math\n",
    "N = 1\n",
    "avg=a\n",
    "total=N\n",
    "x=[1,2]\n",
    "SD=math.sqrt((1-a)**2+(2-a)**2/N)"
   ]
  },
  {
   "cell_type": "code",
   "execution_count": 35,
   "id": "06c0366a",
   "metadata": {},
   "outputs": [],
   "source": [
    "#       2)Using Numpy Array package\n",
    "import numpy as np\n",
    "SD=np.std(x)"
   ]
  },
  {
   "cell_type": "code",
   "execution_count": 36,
   "id": "d4a7bbf7",
   "metadata": {},
   "outputs": [],
   "source": [
    "#       3) General calculation without using any package\n",
    "SD= (((1-avg)**2 + (2-avg)**2)/N)**1/2"
   ]
  },
  {
   "cell_type": "code",
   "execution_count": null,
   "id": "ca0b16cf",
   "metadata": {},
   "outputs": [],
   "source": []
  }
 ],
 "metadata": {
  "kernelspec": {
   "display_name": "Python 3",
   "language": "python",
   "name": "python3"
  },
  "language_info": {
   "codemirror_mode": {
    "name": "ipython",
    "version": 3
   },
   "file_extension": ".py",
   "mimetype": "text/x-python",
   "name": "python",
   "nbconvert_exporter": "python",
   "pygments_lexer": "ipython3",
   "version": "3.8.8"
  }
 },
 "nbformat": 4,
 "nbformat_minor": 5
}
