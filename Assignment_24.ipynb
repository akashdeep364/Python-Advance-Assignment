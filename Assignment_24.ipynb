{
 "cells": [
  {
   "cell_type": "markdown",
   "id": "a6cf17e1",
   "metadata": {},
   "source": [
    "# Q1. Is it permissible to use several import statements to import the same module? What would the goal be? Can you think of a situation where it would be beneficial?"
   ]
  },
  {
   "cell_type": "code",
   "execution_count": 3,
   "id": "7978d161",
   "metadata": {},
   "outputs": [],
   "source": [
    "# Ans : Yes we can use more than one import statement to import the same module more than once.\n",
    "#       This is com einto action when support we want to import some other function or class from the base \n",
    "#       class of any module for example.\n",
    "#       from sklearn.preprocessing import LabelEncoder\n",
    "#       from sklearn.linear_model import LinearRegression"
   ]
  },
  {
   "cell_type": "markdown",
   "id": "89f44b48",
   "metadata": {},
   "source": [
    "#  Q2. What are some of a module&#39;s characteristics? (Name at least one.)"
   ]
  },
  {
   "cell_type": "code",
   "execution_count": 1,
   "id": "a30df483",
   "metadata": {},
   "outputs": [],
   "source": [
    "# Ans : name : It returns the name of the module. doc : It denotes the documentation string line written in a module \n",
    "#       code. file : It holds the name and path of the module file from which it is loaded . dict : It return a \n",
    "#       dictionary object of module attributes, functions and other definitions and their respective values."
   ]
  },
  {
   "cell_type": "markdown",
   "id": "d523cb98",
   "metadata": {},
   "source": [
    "# Q3. Circular importing, such as when two modules import each other, can lead to dependencies and bugs that aren&#39;t visible. How can you go about creating a program that avoids mutual importing?"
   ]
  },
  {
   "cell_type": "code",
   "execution_count": 1,
   "id": "dbad5cc4",
   "metadata": {},
   "outputs": [],
   "source": [
    "# Ans : Circular importing means importing the two modules in each other. If suppose we are wokring in MOD1.py file \n",
    "#       and it is importing some function say F2() from some other module say MOD2.PY file or we can do vice-versa. \n",
    "#       What will happen is: This will give an import error. This is because when we import F2() function from module \n",
    "#       MOD2.py, then this will execute MOD2.py file. And in MOD2.py file there is an another statement of importing\n",
    "#       MOD1.py module. This will result in endless loop. To avoid this error just do one thing- We can use if \n",
    "#       name == 'main'.In the function, you can't directly refer to the function in the program. The addition of \n",
    "#       this sentence avoids the endless loop of the program"
   ]
  },
  {
   "cell_type": "markdown",
   "id": "600339ff",
   "metadata": {},
   "source": [
    "# Q4. Why is _ _all_ _ in Python?"
   ]
  },
  {
   "cell_type": "code",
   "execution_count": 2,
   "id": "037ddf0a",
   "metadata": {},
   "outputs": [],
   "source": [
    "# Ans : It specifies all the modules present in the particular library and those can be called when we use import *"
   ]
  },
  {
   "cell_type": "markdown",
   "id": "5dc292dd",
   "metadata": {},
   "source": [
    "# Q5. In what situation is it useful to refer to the _ _name_ _ attribute or the string &#39;_ _main_ _&#39;?"
   ]
  },
  {
   "cell_type": "code",
   "execution_count": 3,
   "id": "8a1f3499",
   "metadata": {},
   "outputs": [],
   "source": [
    "# Ans : During the time of execution of the code if we want to refer the module in which we are working on then we \n",
    "#       uses name attribute. In that case it will return the module in which we are working on. Suppose if that moudle\n",
    "#       is being imported from some other module then name will have the name of that moudle from where the current \n",
    "#       module has been imported. The current module in which we are working is refer to the string '_ main _'."
   ]
  },
  {
   "cell_type": "markdown",
   "id": "658dfec6",
   "metadata": {},
   "source": [
    "# Q6. What are some of the benefits of attaching a program counter to the RPN interpreter application, which interprets an RPN script line by line?"
   ]
  },
  {
   "cell_type": "code",
   "execution_count": 4,
   "id": "ba3ef7ff",
   "metadata": {},
   "outputs": [],
   "source": [
    "# Ans : RPN saves time and keystrokes. You avoid using and keeping track of parentheses while doing calculations. \n",
    "#       The process is similar to the way you learned math on paper. You can see the intermediary results as you \n",
    "#       perform your computations rather than just the answer at the end."
   ]
  },
  {
   "cell_type": "markdown",
   "id": "57c99fa9",
   "metadata": {},
   "source": [
    "# Q7. What are the minimum expressions or statements (or both) that you&#39;d need to render a basic programming language like RPN primitive but complete— that is, capable of carrying out any computerised task theoretically possible?"
   ]
  },
  {
   "cell_type": "code",
   "execution_count": null,
   "id": "29e51eac",
   "metadata": {},
   "outputs": [],
   "source": [
    "# Ans : Notations  : +-/*\n",
    "#       These are the basic notations we require to carry out a computerised task , like RPN Primitive.\n",
    "#       We also need a particular data structure for storing elements from a statements except operators"
   ]
  }
 ],
 "metadata": {
  "kernelspec": {
   "display_name": "Python 3 (ipykernel)",
   "language": "python",
   "name": "python3"
  },
  "language_info": {
   "codemirror_mode": {
    "name": "ipython",
    "version": 3
   },
   "file_extension": ".py",
   "mimetype": "text/x-python",
   "name": "python",
   "nbconvert_exporter": "python",
   "pygments_lexer": "ipython3",
   "version": "3.9.7"
  }
 },
 "nbformat": 4,
 "nbformat_minor": 5
}
