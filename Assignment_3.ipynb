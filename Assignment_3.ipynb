{
 "cells": [
  {
   "cell_type": "markdown",
   "id": "525aeb88",
   "metadata": {},
   "source": [
    "# Assignment_3"
   ]
  },
  {
   "cell_type": "markdown",
   "id": "b67181d7",
   "metadata": {},
   "source": [
    "# 1. What is the concept of an abstract superclass?"
   ]
  },
  {
   "cell_type": "markdown",
   "id": "d3cbeac8",
   "metadata": {},
   "source": [
    "A class is called an Abstract class if it contains one or more abstract methods. An abstract method is a method that is declared, but contains no implementation. Abstract classes may not be instantiated, and its abstract methods must be implemented by its subclasses."
   ]
  },
  {
   "cell_type": "code",
   "execution_count": 1,
   "id": "605372a9",
   "metadata": {},
   "outputs": [
    {
     "name": "stdout",
     "output_type": "stream",
     "text": [
      "area:  200\n"
     ]
    }
   ],
   "source": [
    "import abc\n",
    "\n",
    "class Shape(metaclass=abc.ABCMeta):\n",
    "    @abc.abstractmethod\n",
    "    def area(self):\n",
    "        pass\n",
    "\n",
    "class Rectangle(Shape):\n",
    "    def __init__(self, x,y):\n",
    "        self.l = x\n",
    "        self.b=y\n",
    "    \n",
    "    def area(self):\n",
    "        return self.l*self.b\n",
    "    \n",
    "r = Rectangle(10,20)\n",
    "print ('area: ',r.area())"
   ]
  },
  {
   "cell_type": "markdown",
   "id": "5721b17f",
   "metadata": {},
   "source": [
    "The 'abc' module in Python library provides the infrastructure for defining custom abstract base classes.\n",
    "\n",
    "'abc' works by marking methods of the base class as abstract. This is done by @absttractmethod decorator. A concrete class which is a sub class of such abstract base class then implements the abstract base by overriding its abstract methods.\n",
    "\n",
    "The abc module defines ABCMeta class which is a metaclass for defining abstract base class. Following example defines Shape class as an abstract base class using ABCMeta. The shape class has area() method decorated by abstractmethod.\n",
    "\n",
    "A Rectangle class now uses above Shape class as its parent and implementing the abstract area() method. Since it is a concrete class, it can be instantiated and imlemented area() method can be called."
   ]
  },
  {
   "cell_type": "markdown",
   "id": "b14946c8",
   "metadata": {},
   "source": [
    "# 2. What happens when a class statement's top level contains a basic assignment statement?"
   ]
  },
  {
   "cell_type": "markdown",
   "id": "ef539f43",
   "metadata": {},
   "source": [
    "\n",
    "        When class statement's top level contains a basic assignment statement, it is considered as class attribute. Change in the value of class attribute will affect all the instances of the class."
   ]
  },
  {
   "cell_type": "code",
   "execution_count": 2,
   "id": "ce25eeed",
   "metadata": {},
   "outputs": [
    {
     "name": "stdout",
     "output_type": "stream",
     "text": [
      "1234\n",
      "2\n",
      "3\n",
      "567\n",
      "567\n"
     ]
    }
   ],
   "source": [
    "class Sample:\n",
    "    some_value = 1234\n",
    "    \n",
    "    def __init__(self, value1):\n",
    "        self.value1 = value1\n",
    "        \n",
    "s = Sample(2)       \n",
    "s1 = Sample(3)\n",
    "\n",
    "print(s.some_value)\n",
    "print(s.value1)\n",
    "print(s1.value1)\n",
    "\n",
    "Sample.some_value = 567\n",
    "print(s.some_value) #observe value is changed for both the objects\n",
    "print(s1.some_value)"
   ]
  },
  {
   "cell_type": "markdown",
   "id": "be31b5a1",
   "metadata": {},
   "source": [
    "# 3. Why does a class need to manually call a superclass's __init__ method?"
   ]
  },
  {
   "cell_type": "markdown",
   "id": "77f2585e",
   "metadata": {},
   "source": [
    " By doing so,we can access those methods of the super-class (parent class) which have been overridden in a sub-class (child class) that inherits from it."
   ]
  },
  {
   "cell_type": "markdown",
   "id": "3941d5e0",
   "metadata": {},
   "source": [
    "# 4. How can you augment, instead of completely replacing, an inherited method?"
   ]
  },
  {
   "cell_type": "markdown",
   "id": "0218f932",
   "metadata": {},
   "source": [
    " The way to do that in Python is by calling to the original version directly, with augmented arguments."
   ]
  },
  {
   "cell_type": "markdown",
   "id": "e0013d08",
   "metadata": {},
   "source": [
    "# 5. How is the local scope of a class different from that of a function?"
   ]
  },
  {
   "cell_type": "markdown",
   "id": "282baee8",
   "metadata": {},
   "source": [
    "In class, if the variable is declared without self then it is accessible within that function only, kinda local variable. However if it declared using self like self.variable_name = 'somevalue', then it is accessible via any object but not via the class name.\n",
    "    \n",
    "Whereas, if a variable is declared within a function then it is a local variable and is accessible to that function only."
   ]
  }
 ],
 "metadata": {
  "kernelspec": {
   "display_name": "Python 3",
   "language": "python",
   "name": "python3"
  },
  "language_info": {
   "codemirror_mode": {
    "name": "ipython",
    "version": 3
   },
   "file_extension": ".py",
   "mimetype": "text/x-python",
   "name": "python",
   "nbconvert_exporter": "python",
   "pygments_lexer": "ipython3",
   "version": "3.8.8"
  }
 },
 "nbformat": 4,
 "nbformat_minor": 5
}
