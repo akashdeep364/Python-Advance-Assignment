{
 "cells": [
  {
   "cell_type": "markdown",
   "id": "0055cc02",
   "metadata": {},
   "source": [
    "# Assignment_5"
   ]
  },
  {
   "cell_type": "markdown",
   "id": "0d135b19",
   "metadata": {},
   "source": [
    "# Q1. What is the meaning of multiple inheritance?"
   ]
  },
  {
   "cell_type": "markdown",
   "id": "aa768ce6",
   "metadata": {},
   "source": [
    "When a class is derived from more than one base class it is called multiple Inheritance. The derived class inherits all the features of the base case."
   ]
  },
  {
   "cell_type": "markdown",
   "id": "2cf5aafd",
   "metadata": {},
   "source": [
    "# Q2. What is the concept of delegation?"
   ]
  },
  {
   "cell_type": "markdown",
   "id": "9553dd9b",
   "metadata": {},
   "source": [
    "Delegation is an object oriented technique (also called a design pattern). Let's say you have an object x and want to change the behaviour of just one of its methods. You can create a new class that provides a new implementation of the method you're interested in changing and delegates all other methods to the corresponding method of x.\n",
    "\n",
    " The delegation is accomplished via the __getattr__ method; consult the language reference for more information about controlling attribute access."
   ]
  },
  {
   "cell_type": "markdown",
   "id": "ef408531",
   "metadata": {},
   "source": [
    "# Q3. What is the concept of composition?"
   ]
  },
  {
   "cell_type": "markdown",
   "id": "7133fdd5",
   "metadata": {},
   "source": [
    "It is one of the fundamental concepts of Object-Oriented Programming. A class that references to one or more objects of other classes as an Instance variable. Here, by using the class name or by creating the object we can access the members of one class inside another class. It enables creating complex types by combining objects of different classes. It means that a class Composite can contain an object of another class Component. This type of relationship is known as Has-A Relation."
   ]
  },
  {
   "cell_type": "markdown",
   "id": "977d6323",
   "metadata": {},
   "source": [
    "# Q4. What are bound methods and how do we use them?"
   ]
  },
  {
   "cell_type": "markdown",
   "id": "6cb903d2",
   "metadata": {},
   "source": [
    "A bound method is the one which is dependent on the instance of the class as the first argument. It passes the instance as the first argument which is used to access the variables and functions. All functions in the class are by default bound methods."
   ]
  },
  {
   "cell_type": "code",
   "execution_count": 1,
   "id": "f81cad61",
   "metadata": {},
   "outputs": [
    {
     "name": "stdout",
     "output_type": "stream",
     "text": [
      "<bound method Sample.fun of <__main__.Sample object at 0x0000024D6EEA5AC0>>\n"
     ]
    }
   ],
   "source": [
    "class Sample:\n",
    "    def fun(self, some_value):\n",
    "        self.some_value = some_value\n",
    "    \n",
    "s = Sample()\n",
    "\n",
    "print(s.fun)"
   ]
  },
  {
   "cell_type": "markdown",
   "id": "c5c996b4",
   "metadata": {},
   "source": [
    "# Q5. What is the purpose of pseudoprivate attributes?"
   ]
  },
  {
   "cell_type": "markdown",
   "id": "ad100875",
   "metadata": {},
   "source": [
    "In Python, there is no concept of \"private\" as such. When naming properties and methods at the level, some special processing is actually done to the name, making it inaccessible to the outside world. "
   ]
  },
  {
   "cell_type": "code",
   "execution_count": 2,
   "id": "199fb4c5",
   "metadata": {},
   "outputs": [
    {
     "name": "stdout",
     "output_type": "stream",
     "text": [
      "1\n",
      "2\n",
      "4\n"
     ]
    }
   ],
   "source": [
    "class Test:\n",
    "    def __init__(self, a, b, c, d):\n",
    "        self.__a = a # __ means pseudo private variable\n",
    "        self.b = b\n",
    "        self.c = c\n",
    "        self.d = d\n",
    "\n",
    "    def custom(self, v):\n",
    "        return v - self.__a\n",
    "\n",
    "t = Test(1,2,3,4)    \n",
    "print(t._Test__a) # this is the way to access Pseudo private  attribute\n",
    "print(t.b)\n",
    "print(t.custom(5))"
   ]
  }
 ],
 "metadata": {
  "kernelspec": {
   "display_name": "Python 3",
   "language": "python",
   "name": "python3"
  },
  "language_info": {
   "codemirror_mode": {
    "name": "ipython",
    "version": 3
   },
   "file_extension": ".py",
   "mimetype": "text/x-python",
   "name": "python",
   "nbconvert_exporter": "python",
   "pygments_lexer": "ipython3",
   "version": "3.8.8"
  }
 },
 "nbformat": 4,
 "nbformat_minor": 5
}
