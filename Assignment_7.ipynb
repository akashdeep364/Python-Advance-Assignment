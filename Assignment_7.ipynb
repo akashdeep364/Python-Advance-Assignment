{
 "cells": [
  {
   "cell_type": "markdown",
   "id": "9169b93b",
   "metadata": {},
   "source": [
    "# Assignment_7"
   ]
  },
  {
   "cell_type": "markdown",
   "id": "7c3bc195",
   "metadata": {},
   "source": [
    "# Q1. What is the purpose of the try statement?"
   ]
  },
  {
   "cell_type": "markdown",
   "id": "cfb44736",
   "metadata": {},
   "source": [
    "Try statement is used to trigger exception. If code in try block causes some run time error, then try will throw an exception. Exception is caught by except block."
   ]
  },
  {
   "cell_type": "markdown",
   "id": "abb6ade1",
   "metadata": {},
   "source": [
    "# Q2. What are the two most popular try statement variations?"
   ]
  },
  {
   "cell_type": "markdown",
   "id": "2b6db4e8",
   "metadata": {},
   "source": [
    "\n",
    "IOError – It occurs on errors like a file fails to open.\n",
    "ImportError – If a python module can’t be loaded or located.\n",
    "KeyboardInterrupt : when an unrequired key is pressed by the user\n",
    "ValueError : when built-in function receives a wrong argument\n",
    "EOFError : if End-Of-File is hit without reading any data\n",
    "\n",
    "\n",
    "How try() works? \n",
    " \n",
    "First, try clause is executed i.e. the code between try and except clause.\n",
    "If there is no exception, then only try clause will run, except clause is finished.\n",
    "If any exception occured, try clause will be skipped and except clause will run.\n",
    "If any exception occurs, but the except clause within the code doesn’t handle it, it is passed on to the outer try statements. If the exception left unhandled, then the execution stops.\n",
    "A try statement can have more than one except clause\n"
   ]
  },
  {
   "cell_type": "markdown",
   "id": "f59c1a80",
   "metadata": {},
   "source": [
    "# Q3. What is the purpose of the raise statement?"
   ]
  },
  {
   "cell_type": "markdown",
   "id": "5ed5cc8e",
   "metadata": {},
   "source": [
    "raise statement is used to raise an exception. You can define what kind of error to raise."
   ]
  },
  {
   "cell_type": "markdown",
   "id": "7d370e34",
   "metadata": {},
   "source": [
    "# Q4. What does the assert statement do, and what other statement is it like?\n"
   ]
  },
  {
   "cell_type": "markdown",
   "id": "5c451d92",
   "metadata": {},
   "source": [
    "The assert statement lets you test if a condition in your code returns True, if not, the program will raise an AssertionError. It is like raise statement, where we can create our custom exceptions. "
   ]
  },
  {
   "cell_type": "code",
   "execution_count": 1,
   "id": "91983b50",
   "metadata": {},
   "outputs": [
    {
     "ename": "AssertionError",
     "evalue": "number should be greater than 0",
     "output_type": "error",
     "traceback": [
      "\u001b[1;31m---------------------------------------------------------------------------\u001b[0m",
      "\u001b[1;31mAssertionError\u001b[0m                            Traceback (most recent call last)",
      "\u001b[1;32m<ipython-input-1-da6003f7a28a>\u001b[0m in \u001b[0;36m<module>\u001b[1;34m\u001b[0m\n\u001b[0;32m      1\u001b[0m \u001b[0mx\u001b[0m \u001b[1;33m=\u001b[0m \u001b[1;36m0\u001b[0m\u001b[1;33m\u001b[0m\u001b[1;33m\u001b[0m\u001b[0m\n\u001b[1;32m----> 2\u001b[1;33m \u001b[1;32massert\u001b[0m  \u001b[0mx\u001b[0m \u001b[1;33m>\u001b[0m \u001b[1;36m0\u001b[0m\u001b[1;33m,\u001b[0m \u001b[1;34m\"number should be greater than 0\"\u001b[0m\u001b[1;33m\u001b[0m\u001b[1;33m\u001b[0m\u001b[0m\n\u001b[0m\u001b[0;32m      3\u001b[0m \u001b[0mprint\u001b[0m\u001b[1;33m(\u001b[0m\u001b[1;34m\"even\"\u001b[0m\u001b[1;33m)\u001b[0m\u001b[1;33m\u001b[0m\u001b[1;33m\u001b[0m\u001b[0m\n",
      "\u001b[1;31mAssertionError\u001b[0m: number should be greater than 0"
     ]
    }
   ],
   "source": [
    "x = 0\n",
    "assert  x > 0, \"number should be greater than 0\"\n",
    "print(\"even\")"
   ]
  },
  {
   "cell_type": "markdown",
   "id": "d96e2670",
   "metadata": {},
   "source": [
    "# Q5. What is the purpose of the with/as argument, and what other statement is it like?"
   ]
  },
  {
   "cell_type": "markdown",
   "id": "97738849",
   "metadata": {},
   "source": [
    "with statement in Python is used in exception handling to make the code cleaner and much more readable. It simplifies the management of common resources like file streams. The with statement itself ensures proper acquisition and release of resources. This allows common try…except…finally usage patterns to be encapsulated for convenient reuse.\n",
    "\n",
    "when \"as\" is used after \"with\", it will reassign the the returned object to a new identifier. "
   ]
  }
 ],
 "metadata": {
  "kernelspec": {
   "display_name": "Python 3",
   "language": "python",
   "name": "python3"
  },
  "language_info": {
   "codemirror_mode": {
    "name": "ipython",
    "version": 3
   },
   "file_extension": ".py",
   "mimetype": "text/x-python",
   "name": "python",
   "nbconvert_exporter": "python",
   "pygments_lexer": "ipython3",
   "version": "3.8.8"
  }
 },
 "nbformat": 4,
 "nbformat_minor": 5
}
